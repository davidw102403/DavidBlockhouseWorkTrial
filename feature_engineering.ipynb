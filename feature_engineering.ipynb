{
 "cells": [
  {
   "cell_type": "code",
   "execution_count": 4,
   "metadata": {},
   "outputs": [],
   "source": [
    "import pandas as pd"
   ]
  },
  {
   "cell_type": "markdown",
   "metadata": {},
   "source": [
    "### Part 1. Feature Engineering"
   ]
  },
  {
   "cell_type": "markdown",
   "metadata": {},
   "source": [
    "The reasoning for the inclusion of each feature is included in part 1 of the document titled \"Reasoning and Paper Summary\""
   ]
  },
  {
   "cell_type": "markdown",
   "metadata": {},
   "source": [
    "Feature 1: trade duration"
   ]
  },
  {
   "cell_type": "code",
   "execution_count": 5,
   "metadata": {},
   "outputs": [
    {
     "name": "stdout",
     "output_type": "stream",
     "text": [
      "            OrderTime       ExecutionTime  Trade_Duration\n",
      "0 2024-06-01 09:30:00 2024-06-01 09:31:00 0 days 00:01:00\n",
      "1 2024-06-01 09:45:00 2024-06-01 09:50:00 0 days 00:05:00\n",
      "2 2024-06-01 10:00:00 2024-06-01 10:10:00 0 days 00:10:00\n"
     ]
    }
   ],
   "source": [
    "def tradeDuration(data):\n",
    "    \"\"\"\n",
    "    function that calculates the duration of a trade\n",
    "\n",
    "    Inputs:\n",
    "    data: pd.DataFrame dataframe that contains columns \"OrderTime\" and \"ExceutionTime\"\n",
    "\n",
    "    Outputs:\n",
    "    trade_duration: pd.Series that contains the trade durations\n",
    "    \"\"\"\n",
    "    trade_duration = data['ExecutionTime'] - data['OrderTime']\n",
    "    return trade_duration\n",
    "\n",
    "# test example\n",
    "data = pd.DataFrame({\n",
    "    'OrderTime': pd.to_datetime(['2024-06-01 09:30:00', '2024-06-01 09:45:00', '2024-06-01 10:00:00']),\n",
    "    'ExecutionTime': pd.to_datetime(['2024-06-01 09:31:00', '2024-06-01 09:50:00', '2024-06-01 10:10:00'])\n",
    "})\n",
    "data['Trade_Duration'] = tradeDuration(data)\n",
    "print(data)"
   ]
  },
  {
   "cell_type": "markdown",
   "metadata": {},
   "source": [
    "Feature 2: Market Sentiment Score"
   ]
  },
  {
   "cell_type": "code",
   "execution_count": 6,
   "metadata": {},
   "outputs": [
    {
     "name": "stdout",
     "output_type": "stream",
     "text": [
      "    Stock  Market_Sentiment\n",
      "0  Nvidia          0.568182\n",
      "1   Apple          0.068182\n"
     ]
    }
   ],
   "source": [
    "from textblob import TextBlob\n",
    "\n",
    "def marketSentiment(data, news_data):\n",
    "    \"\"\"\n",
    "    function that calculates a sentiment score using NLP\n",
    "    \n",
    "    inputs:\n",
    "    data: pd.DataFrame that contains a column \"Stock\".\n",
    "    news_data: pd.DataFrame that contains news articles with a column \"Text\" and a column \"Company\"\n",
    "\n",
    "    outputs: \n",
    "    pd.Series that contains the scores for market sentiment \n",
    "    \"\"\"\n",
    "    sentiment_scores = {}\n",
    "    \n",
    "    for company in data['Stock']:\n",
    "        # extract text and calculate score\n",
    "        company_news = news_data[news_data['Company'] == company]['Text']\n",
    "        \n",
    "        company_sentiment = company_news.apply(lambda x: TextBlob(x).sentiment.polarity)\n",
    "        \n",
    "        sentiment_scores[company] = company_sentiment.mean()\n",
    "    \n",
    "    # map sentiment scores to data\n",
    "    data['Market_Sentiment'] = data['Stock'].map(sentiment_scores)\n",
    "    return data['Market_Sentiment']\n",
    "\n",
    "# test example\n",
    "news_data = pd.DataFrame({\n",
    "    'Text': [\"Nvidia reports excellent profits.\", \"Apple is facing a lawsuit\", \"Nvidia launches new AI product.\", \"Apple releases new iPhone.\"],\n",
    "    'Company': ['Nvidia', 'Apple', 'Nvidia', 'Apple']\n",
    "})\n",
    "data = pd.DataFrame({\n",
    "    'Stock': ['Nvidia', 'Apple']\n",
    "})\n",
    "\n",
    "data['Market_Sentiment'] = marketSentiment(data, news_data)\n",
    "print(data)"
   ]
  },
  {
   "cell_type": "markdown",
   "metadata": {},
   "source": [
    "Feature 3: Order Cancellation Rate"
   ]
  },
  {
   "cell_type": "code",
   "execution_count": 7,
   "metadata": {},
   "outputs": [
    {
     "name": "stdout",
     "output_type": "stream",
     "text": [
      "   TotalOrders  CancelledOrders  Order_Cancellation_Rate\n",
      "0          100               10                 0.100000\n",
      "1          200               97                 0.485000\n",
      "2          150               23                 0.153333\n"
     ]
    }
   ],
   "source": [
    "def cancelationRate(data):\n",
    "    \"\"\"\n",
    "    function to calculate the rate of order cancelations\n",
    "\n",
    "    Inputs:\n",
    "    data: pd.DataFrame that contains 'TotalOrders' and 'CancelledOrders' columns.\n",
    "    \n",
    "    Outputs:\n",
    "    cancellation_rate: pd.Series that contains the order cancellation rate values.\n",
    "    \"\"\"\n",
    "    cancellation_rate = data['CancelledOrders'] / data['TotalOrders']\n",
    "    return cancellation_rate\n",
    "\n",
    "# test example\n",
    "data = pd.DataFrame({\n",
    "    'TotalOrders': [100, 200, 150],\n",
    "    'CancelledOrders': [10, 97, 23]\n",
    "})\n",
    "data['Order_Cancellation_Rate'] = cancelationRate(data)\n",
    "print(data)"
   ]
  },
  {
   "cell_type": "markdown",
   "metadata": {},
   "source": [
    "Feature 4: Order Execution Speed"
   ]
  },
  {
   "cell_type": "code",
   "execution_count": 8,
   "metadata": {},
   "outputs": [
    {
     "name": "stdout",
     "output_type": "stream",
     "text": [
      "            OrderTime       ExecutionTime  Order_Execution_Speed\n",
      "0 2024-06-01 09:30:00 2024-06-01 09:31:00                   60.0\n",
      "1 2024-06-01 09:45:00 2024-06-01 09:50:00                  300.0\n",
      "2 2024-06-01 10:00:00 2024-06-01 10:10:00                  600.0\n"
     ]
    }
   ],
   "source": [
    "def executionSpeed(data):\n",
    "    \"\"\"\n",
    "    funcion that calculates the order execution speed\n",
    "    \n",
    "    Inputs:\n",
    "    data: pd.DataFrame containing 'OrderTime' and 'ExecutionTime' columns.\n",
    "    \n",
    "    Returns:\n",
    "    execution_speed: pd.Series that containins the order execution speed values.\n",
    "    \"\"\"\n",
    "    execution_speed = (data['ExecutionTime'] - data['OrderTime']).dt.total_seconds()\n",
    "    return execution_speed\n",
    "\n",
    "# test exasmple\n",
    "data = pd.DataFrame({\n",
    "    'OrderTime': pd.to_datetime(['2024-06-01 09:30:00', '2024-06-01 09:45:00', '2024-06-01 10:00:00']),\n",
    "    'ExecutionTime': pd.to_datetime(['2024-06-01 09:31:00', '2024-06-01 09:50:00', '2024-06-01 10:10:00'])\n",
    "})\n",
    "data['Order_Execution_Speed'] = executionSpeed(data)\n",
    "print(data)\n"
   ]
  },
  {
   "cell_type": "markdown",
   "metadata": {},
   "source": [
    "Feature 5: Order-to-Trade Ratio"
   ]
  },
  {
   "cell_type": "code",
   "execution_count": 9,
   "metadata": {},
   "outputs": [
    {
     "name": "stdout",
     "output_type": "stream",
     "text": [
      "   TotalOrders  TotalTrades  Order_to_Trade_Ratio\n",
      "0          100           80              1.250000\n",
      "1          200          190              1.052632\n",
      "2          150          140              1.071429\n",
      "3          120          110              1.090909\n",
      "4          130          125              1.040000\n",
      "5          160          155              1.032258\n",
      "6          140          135              1.037037\n"
     ]
    }
   ],
   "source": [
    "\n",
    "def orderToTradeRatio(data):\n",
    "    \"\"\"\n",
    "    function to calculate order to trade ratio\n",
    "\n",
    "    Inputs:\n",
    "    data: pd.DataFrame containing 'TotalOrders' and 'TotalTrades' columns.\n",
    "\n",
    "    Outputs:\n",
    "    order_to_trade_ratio: pd.Series containing the order-to-trade ratio values.\n",
    "    \"\"\"\n",
    "    order_to_trade_ratio = data['TotalOrders'] / data['TotalTrades']\n",
    "    return order_to_trade_ratio\n",
    "\n",
    "# test example\n",
    "data = pd.DataFrame({\n",
    "    'TotalOrders': [100, 200, 150, 120, 130, 160, 140],\n",
    "    'TotalTrades': [80, 190, 140, 110, 125, 155, 135]\n",
    "})\n",
    "\n",
    "data['Order_to_Trade_Ratio'] = orderToTradeRatio(data)\n",
    "print(data)\n"
   ]
  },
  {
   "cell_type": "code",
   "execution_count": null,
   "metadata": {},
   "outputs": [],
   "source": []
  }
 ],
 "metadata": {
  "kernelspec": {
   "display_name": "Python 3",
   "language": "python",
   "name": "python3"
  },
  "language_info": {
   "codemirror_mode": {
    "name": "ipython",
    "version": 3
   },
   "file_extension": ".py",
   "mimetype": "text/x-python",
   "name": "python",
   "nbconvert_exporter": "python",
   "pygments_lexer": "ipython3",
   "version": "3.11.9"
  }
 },
 "nbformat": 4,
 "nbformat_minor": 2
}
